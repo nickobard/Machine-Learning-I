{
 "cells": [
  {
   "cell_type": "markdown",
   "id": "0cf75ab4-bd4d-4ec2-a708-74797dbfce44",
   "metadata": {},
   "source": [
    "# Úkol č. 2 - regrese\n",
    "\n",
    "* Termíny jsou uvedeny na [courses.fit.cvut.cz](https://courses.fit.cvut.cz/BI-ML1/homeworks/index.html).\n",
    "* Pokud odevzdáte úkol po prvním termínu ale před nejzazším termínem, budete penalizování -12 body, pozdější odevzdání je bez bodu.\n",
    "* V rámci tohoto úkolu se musíte vypořádat s regresní úlohou, s příznaky různých typů a s chybějícími hodnotami.\n",
    "* Před tím, než na nich postavíte predikční model, je třeba je nějakým způsobem převést do číselné reprezentace.\n",
    "    \n",
    "> **Úkoly jsou zadány tak, aby Vám daly prostor pro invenci. Vymyslet _jak přesně_ budete úkol řešit, je důležitou součástí zadání a originalita či nápaditost bude také hodnocena!**\n",
    "\n",
    "Využívejte buňky typu `Markdown` k vysvětlování Vašeho postupu. Za nepřehlednost budeme strhávat body.\n",
    "\n",
    "## Zdroj dat\n",
    "\n",
    "Budeme se zabývat predikcí délky dožití v různých zemích a letech.\n",
    "K dispozici máte trénovací data v souboru `data.csv` a data na vyhodnocení v souboru `evaluation.csv`.\n",
    "\n",
    "#### Seznam příznaků:\n",
    "\n",
    "* Year - Rok\n",
    "* Status - Status rozvinuté nebo rozvojové země\n",
    "* Life expectancy - Délka dožití v letech - **cílová proměnná, kterou budete predikovat**\n",
    "* Adult Mortality - Úmrtnost dospělých bez ohledu na pohlaví (pravděpodobnost, že osoby, které dosáhly věku 15 let, zemřou před dosažením věku 60 let (uvedeno na 1 000 osob)).\n",
    "* infant deaths - počet zemřelých kojenců na 1000 obyvatel\n",
    "* Alcohol - Alkohol, zaznamenaná spotřeba na obyvatele (15+) (v litrech čistého alkoholu)\n",
    "* percentage expenditure - Výdaje na zdravotnictví v procentech hrubého domácího produktu na obyvatele (%)\n",
    "* Hepatitis B - pokrytí očkováním proti hepatitidě B (HepB) u dětí ve věku 1 roku (%)\n",
    "* Measles - Spalničky - počet hlášených případů na 1000 obyvatel\n",
    "* BMI - průměrný index tělesné hmotnosti celé populace\n",
    "* under-five deaths - počet úmrtí dětí do pěti let na 1000 obyvatel\n",
    "* Polio - proočkovanost proti dětské obrně (Pol3) u dětí ve věku 1 roku (%)\n",
    "* Total expenditure - Výdaje vládních institucí na zdravotnictví jako procento celkových vládních výdajů (%)\n",
    "* Diphtheria - pokrytí očkováním proti záškrtu, tetanu a černému kašli (DTP3) u jednoletých dětí (%)\n",
    "* HIV/AIDS - počet úmrtí na 1 000 živě narozených dětí na HIV/AIDS (0-4 roky)\n",
    "* GDP - hrubý domácí produkt na obyvatele (v USD)\n",
    "* Population - počet obyvatel země\n",
    "* thinness 1-19 years - podíl dětí ve věku 10-19 let s indexem tělesné hmotnosti (BMI) menším než 2 směrodatné odchylky pod mediánem (%)\n",
    "* thinness 5-9 years - podíl dětí ve věku 5-9 let s indexem tělesné hmotnosti (BMI) menším než 2 směrodatné odchylky pod mediánem (%)\n",
    "* Income composition of resources - Index lidského rozvoje z hlediska příjmového složení zdrojů (index v rozmezí 0 až 1)\n",
    "* Schooling - počet let školní docházky (roky)\n",
    "\n",
    "\n",
    "## Pokyny k vypracování\n",
    "\n",
    "**Body zadání**, za jejichž (poctivé) vypracování získáte **25 bodů**: \n",
    "  * V notebooku načtěte data ze souboru `data.csv`. Vhodným způsobem si je rozdělte na podmnožiny, které Vám poslouží pro trénování (trénovací), porovnávání modelů (validační) a následnou predikci výkonnosti finálního modelu (testovací).\n",
    "    \n",
    "  * Proveďte základní předzpracování dat:\n",
    "    * Projděte si jednotlivé příznaky a transformujte je do vhodné podoby pro použití ve vybraném regresním modelu.\n",
    "    * Nějakým způsobem se vypořádejte s chybějícími hodnotami. _Pozor na metodické chyby!_\n",
    "    * Můžete využívat i vizualizace. Vše stručně ale náležitě komentujte.\n",
    "<br /><br />\n",
    "  * Vytvořte **vlastní implementaci náhodného lesa**. Použijte k tomu níže předpřipravenou kostru.\n",
    "  \n",
    "  * Na připravená data postupně aplikujte Vaši předchozí implementaci modelu náhodného lesa, dále jeden z modelů **lineární regrese** nebo **hřebenové regrese**, a alespoň jeden další model podle Vašeho uvážení, přičemž pro každý z těchto modelů přiměřeně:\n",
    "    * Okomentujte vhodnost daného modelu pro daný typ úlohy.\n",
    "    * Experimentujte s normalizací (standardizace/min-max), pokud pro daný model očekáváte její příznivý vliv.\n",
    "    * Vyberte si hlavní hyperparametry k ladění a najděte jejich nejlepší hodnoty (vzhledem k RMSE).\n",
    "    * Pro model s nejlepšími hodnotami hyperparametrů určete jeho chybu pomocí RMSE a MAE. _Pozor na metodické chyby!_\n",
    "    * Získané výsledky vždy řádně okomentujte.\n",
    "<br /><br />\n",
    "  * Ze všech zkoušených možností v předchozím kroku vyberte finální model a odhadněte, jakou chybu (RMSE) můžete očekávat na nových datech, která jste doposud neměli k dispozici. _Pozor na metodické chyby!_\n",
    "    \n",
    "  * Nakonec načtěte vyhodnocovací data ze souboru `evaluation.csv`. Pomocí finálního modelu napočítejte predikce pro tato data. Vytvořte soubor `results.csv`, ve kterém získané predikce uložíte s využitím tří sloupců: **Country**, **Year** a **Life expectancy**. Tento soubor též odevzdejte (uložte do repozitáře vedle notebooku).\n",
    "\n",
    "  * Ukázka prvních řádků souboru `results.csv`:\n",
    "  \n",
    "```\n",
    "Country,Year,Life expectancy\n",
    "Peru,2012,71.4\n",
    "Peru,2013,72.6\n",
    "...\n",
    "```\n",
    "\n",
    "\n",
    "## Poznámky k odevzdání\n",
    "\n",
    "  * Řiďte se pokyny ze stránky https://courses.fit.cvut.cz/BI-ML1/homeworks/index.html."
   ]
  },
  {
   "cell_type": "code",
   "execution_count": 2,
   "id": "ffdd8f00",
   "metadata": {},
   "outputs": [],
   "source": [
    "# importy\n",
    "import pandas as pd\n",
    "import matplotlib.pyplot as plt\n",
    "import numpy as np\n",
    "\n",
    "from sklearn.model_selection import train_test_split, ParameterGrid\n",
    "from sklearn.tree import DecisionTreeRegressor\n",
    "from sklearn.preprocessing import MinMaxScaler, StandardScaler, LabelEncoder\n",
    "import sklearn.metrics as metrics\n",
    "\n",
    "random_seed = 42\n"
   ]
  },
  {
   "cell_type": "markdown",
   "id": "7a8769c5",
   "metadata": {},
   "source": [
    "# 1. Analyza a Uprava Dat"
   ]
  },
  {
   "cell_type": "code",
   "execution_count": 3,
   "id": "62794c89",
   "metadata": {},
   "outputs": [],
   "source": [
    "df_data = pd.read_csv(\"data.csv\")"
   ]
  },
  {
   "cell_type": "markdown",
   "id": "ca6c7b75",
   "metadata": {},
   "source": [
    "## Prvni pohled"
   ]
  },
  {
   "cell_type": "code",
   "execution_count": 4,
   "id": "2bf898e9",
   "metadata": {},
   "outputs": [
    {
     "data": {
      "text/html": [
       "<div>\n",
       "<style scoped>\n",
       "    .dataframe tbody tr th:only-of-type {\n",
       "        vertical-align: middle;\n",
       "    }\n",
       "\n",
       "    .dataframe tbody tr th {\n",
       "        vertical-align: top;\n",
       "    }\n",
       "\n",
       "    .dataframe thead th {\n",
       "        text-align: right;\n",
       "    }\n",
       "</style>\n",
       "<table border=\"1\" class=\"dataframe\">\n",
       "  <thead>\n",
       "    <tr style=\"text-align: right;\">\n",
       "      <th></th>\n",
       "      <th>Country</th>\n",
       "      <th>Year</th>\n",
       "      <th>Status</th>\n",
       "      <th>Life expectancy</th>\n",
       "      <th>Adult Mortality</th>\n",
       "      <th>infant deaths</th>\n",
       "      <th>Alcohol</th>\n",
       "      <th>percentage expenditure</th>\n",
       "      <th>Hepatitis B</th>\n",
       "      <th>Measles</th>\n",
       "      <th>...</th>\n",
       "      <th>Polio</th>\n",
       "      <th>Total expenditure</th>\n",
       "      <th>Diphtheria</th>\n",
       "      <th>HIV/AIDS</th>\n",
       "      <th>GDP</th>\n",
       "      <th>Population</th>\n",
       "      <th>thinness  1-19 years</th>\n",
       "      <th>thinness 5-9 years</th>\n",
       "      <th>Income composition of resources</th>\n",
       "      <th>Schooling</th>\n",
       "    </tr>\n",
       "  </thead>\n",
       "  <tbody>\n",
       "    <tr>\n",
       "      <th>0</th>\n",
       "      <td>Afghanistan</td>\n",
       "      <td>2015</td>\n",
       "      <td>Developing</td>\n",
       "      <td>65.0</td>\n",
       "      <td>263.0</td>\n",
       "      <td>62</td>\n",
       "      <td>0.01</td>\n",
       "      <td>71.279624</td>\n",
       "      <td>65.0</td>\n",
       "      <td>1154</td>\n",
       "      <td>...</td>\n",
       "      <td>6.0</td>\n",
       "      <td>8.16</td>\n",
       "      <td>65.0</td>\n",
       "      <td>0.1</td>\n",
       "      <td>584.259210</td>\n",
       "      <td>33736494.0</td>\n",
       "      <td>17.2</td>\n",
       "      <td>17.3</td>\n",
       "      <td>0.479</td>\n",
       "      <td>10.1</td>\n",
       "    </tr>\n",
       "    <tr>\n",
       "      <th>1</th>\n",
       "      <td>Afghanistan</td>\n",
       "      <td>2014</td>\n",
       "      <td>Developing</td>\n",
       "      <td>59.9</td>\n",
       "      <td>271.0</td>\n",
       "      <td>64</td>\n",
       "      <td>0.01</td>\n",
       "      <td>73.523582</td>\n",
       "      <td>62.0</td>\n",
       "      <td>492</td>\n",
       "      <td>...</td>\n",
       "      <td>58.0</td>\n",
       "      <td>8.18</td>\n",
       "      <td>62.0</td>\n",
       "      <td>0.1</td>\n",
       "      <td>612.696514</td>\n",
       "      <td>327582.0</td>\n",
       "      <td>17.5</td>\n",
       "      <td>17.5</td>\n",
       "      <td>0.476</td>\n",
       "      <td>10.0</td>\n",
       "    </tr>\n",
       "    <tr>\n",
       "      <th>2</th>\n",
       "      <td>Afghanistan</td>\n",
       "      <td>2013</td>\n",
       "      <td>Developing</td>\n",
       "      <td>59.9</td>\n",
       "      <td>268.0</td>\n",
       "      <td>66</td>\n",
       "      <td>0.01</td>\n",
       "      <td>73.219243</td>\n",
       "      <td>64.0</td>\n",
       "      <td>430</td>\n",
       "      <td>...</td>\n",
       "      <td>62.0</td>\n",
       "      <td>8.13</td>\n",
       "      <td>64.0</td>\n",
       "      <td>0.1</td>\n",
       "      <td>631.744976</td>\n",
       "      <td>31731688.0</td>\n",
       "      <td>17.7</td>\n",
       "      <td>17.7</td>\n",
       "      <td>0.470</td>\n",
       "      <td>9.9</td>\n",
       "    </tr>\n",
       "    <tr>\n",
       "      <th>3</th>\n",
       "      <td>Afghanistan</td>\n",
       "      <td>2012</td>\n",
       "      <td>Developing</td>\n",
       "      <td>59.5</td>\n",
       "      <td>272.0</td>\n",
       "      <td>69</td>\n",
       "      <td>0.01</td>\n",
       "      <td>78.184215</td>\n",
       "      <td>67.0</td>\n",
       "      <td>2787</td>\n",
       "      <td>...</td>\n",
       "      <td>67.0</td>\n",
       "      <td>8.52</td>\n",
       "      <td>67.0</td>\n",
       "      <td>0.1</td>\n",
       "      <td>669.959000</td>\n",
       "      <td>3696958.0</td>\n",
       "      <td>17.9</td>\n",
       "      <td>18.0</td>\n",
       "      <td>0.463</td>\n",
       "      <td>9.8</td>\n",
       "    </tr>\n",
       "    <tr>\n",
       "      <th>4</th>\n",
       "      <td>Afghanistan</td>\n",
       "      <td>2011</td>\n",
       "      <td>Developing</td>\n",
       "      <td>59.2</td>\n",
       "      <td>275.0</td>\n",
       "      <td>71</td>\n",
       "      <td>0.01</td>\n",
       "      <td>7.097109</td>\n",
       "      <td>68.0</td>\n",
       "      <td>3013</td>\n",
       "      <td>...</td>\n",
       "      <td>68.0</td>\n",
       "      <td>7.87</td>\n",
       "      <td>68.0</td>\n",
       "      <td>0.1</td>\n",
       "      <td>63.537231</td>\n",
       "      <td>2978599.0</td>\n",
       "      <td>18.2</td>\n",
       "      <td>18.2</td>\n",
       "      <td>0.454</td>\n",
       "      <td>9.5</td>\n",
       "    </tr>\n",
       "  </tbody>\n",
       "</table>\n",
       "<p>5 rows × 22 columns</p>\n",
       "</div>"
      ],
      "text/plain": [
       "       Country  Year      Status  Life expectancy  Adult Mortality  \\\n",
       "0  Afghanistan  2015  Developing             65.0            263.0   \n",
       "1  Afghanistan  2014  Developing             59.9            271.0   \n",
       "2  Afghanistan  2013  Developing             59.9            268.0   \n",
       "3  Afghanistan  2012  Developing             59.5            272.0   \n",
       "4  Afghanistan  2011  Developing             59.2            275.0   \n",
       "\n",
       "   infant deaths  Alcohol  percentage expenditure  Hepatitis B  Measles  ...  \\\n",
       "0             62     0.01               71.279624         65.0     1154  ...   \n",
       "1             64     0.01               73.523582         62.0      492  ...   \n",
       "2             66     0.01               73.219243         64.0      430  ...   \n",
       "3             69     0.01               78.184215         67.0     2787  ...   \n",
       "4             71     0.01                7.097109         68.0     3013  ...   \n",
       "\n",
       "   Polio  Total expenditure  Diphtheria  HIV/AIDS         GDP  Population  \\\n",
       "0    6.0               8.16        65.0       0.1  584.259210  33736494.0   \n",
       "1   58.0               8.18        62.0       0.1  612.696514    327582.0   \n",
       "2   62.0               8.13        64.0       0.1  631.744976  31731688.0   \n",
       "3   67.0               8.52        67.0       0.1  669.959000   3696958.0   \n",
       "4   68.0               7.87        68.0       0.1   63.537231   2978599.0   \n",
       "\n",
       "   thinness  1-19 years  thinness 5-9 years  Income composition of resources  \\\n",
       "0                  17.2                17.3                            0.479   \n",
       "1                  17.5                17.5                            0.476   \n",
       "2                  17.7                17.7                            0.470   \n",
       "3                  17.9                18.0                            0.463   \n",
       "4                  18.2                18.2                            0.454   \n",
       "\n",
       "   Schooling  \n",
       "0       10.1  \n",
       "1       10.0  \n",
       "2        9.9  \n",
       "3        9.8  \n",
       "4        9.5  \n",
       "\n",
       "[5 rows x 22 columns]"
      ]
     },
     "metadata": {},
     "output_type": "display_data"
    },
    {
     "data": {
      "text/html": [
       "<div>\n",
       "<style scoped>\n",
       "    .dataframe tbody tr th:only-of-type {\n",
       "        vertical-align: middle;\n",
       "    }\n",
       "\n",
       "    .dataframe tbody tr th {\n",
       "        vertical-align: top;\n",
       "    }\n",
       "\n",
       "    .dataframe thead th {\n",
       "        text-align: right;\n",
       "    }\n",
       "</style>\n",
       "<table border=\"1\" class=\"dataframe\">\n",
       "  <thead>\n",
       "    <tr style=\"text-align: right;\">\n",
       "      <th></th>\n",
       "      <th>Country</th>\n",
       "      <th>Year</th>\n",
       "      <th>Status</th>\n",
       "      <th>Life expectancy</th>\n",
       "      <th>Adult Mortality</th>\n",
       "      <th>infant deaths</th>\n",
       "      <th>Alcohol</th>\n",
       "      <th>percentage expenditure</th>\n",
       "      <th>Hepatitis B</th>\n",
       "      <th>Measles</th>\n",
       "      <th>...</th>\n",
       "      <th>Polio</th>\n",
       "      <th>Total expenditure</th>\n",
       "      <th>Diphtheria</th>\n",
       "      <th>HIV/AIDS</th>\n",
       "      <th>GDP</th>\n",
       "      <th>Population</th>\n",
       "      <th>thinness  1-19 years</th>\n",
       "      <th>thinness 5-9 years</th>\n",
       "      <th>Income composition of resources</th>\n",
       "      <th>Schooling</th>\n",
       "    </tr>\n",
       "  </thead>\n",
       "  <tbody>\n",
       "    <tr>\n",
       "      <th>2713</th>\n",
       "      <td>Zimbabwe</td>\n",
       "      <td>2004</td>\n",
       "      <td>Developing</td>\n",
       "      <td>44.3</td>\n",
       "      <td>723.0</td>\n",
       "      <td>27</td>\n",
       "      <td>4.36</td>\n",
       "      <td>0.0</td>\n",
       "      <td>68.0</td>\n",
       "      <td>31</td>\n",
       "      <td>...</td>\n",
       "      <td>67.0</td>\n",
       "      <td>7.13</td>\n",
       "      <td>65.0</td>\n",
       "      <td>33.6</td>\n",
       "      <td>454.366654</td>\n",
       "      <td>12777511.0</td>\n",
       "      <td>9.4</td>\n",
       "      <td>9.4</td>\n",
       "      <td>0.407</td>\n",
       "      <td>9.2</td>\n",
       "    </tr>\n",
       "    <tr>\n",
       "      <th>2714</th>\n",
       "      <td>Zimbabwe</td>\n",
       "      <td>2003</td>\n",
       "      <td>Developing</td>\n",
       "      <td>44.5</td>\n",
       "      <td>715.0</td>\n",
       "      <td>26</td>\n",
       "      <td>4.06</td>\n",
       "      <td>0.0</td>\n",
       "      <td>7.0</td>\n",
       "      <td>998</td>\n",
       "      <td>...</td>\n",
       "      <td>7.0</td>\n",
       "      <td>6.52</td>\n",
       "      <td>68.0</td>\n",
       "      <td>36.7</td>\n",
       "      <td>453.351155</td>\n",
       "      <td>12633897.0</td>\n",
       "      <td>9.8</td>\n",
       "      <td>9.9</td>\n",
       "      <td>0.418</td>\n",
       "      <td>9.5</td>\n",
       "    </tr>\n",
       "    <tr>\n",
       "      <th>2715</th>\n",
       "      <td>Zimbabwe</td>\n",
       "      <td>2002</td>\n",
       "      <td>Developing</td>\n",
       "      <td>44.8</td>\n",
       "      <td>73.0</td>\n",
       "      <td>25</td>\n",
       "      <td>4.43</td>\n",
       "      <td>0.0</td>\n",
       "      <td>73.0</td>\n",
       "      <td>304</td>\n",
       "      <td>...</td>\n",
       "      <td>73.0</td>\n",
       "      <td>6.53</td>\n",
       "      <td>71.0</td>\n",
       "      <td>39.8</td>\n",
       "      <td>57.348340</td>\n",
       "      <td>125525.0</td>\n",
       "      <td>1.2</td>\n",
       "      <td>1.3</td>\n",
       "      <td>0.427</td>\n",
       "      <td>10.0</td>\n",
       "    </tr>\n",
       "    <tr>\n",
       "      <th>2716</th>\n",
       "      <td>Zimbabwe</td>\n",
       "      <td>2001</td>\n",
       "      <td>Developing</td>\n",
       "      <td>45.3</td>\n",
       "      <td>686.0</td>\n",
       "      <td>25</td>\n",
       "      <td>1.72</td>\n",
       "      <td>0.0</td>\n",
       "      <td>76.0</td>\n",
       "      <td>529</td>\n",
       "      <td>...</td>\n",
       "      <td>76.0</td>\n",
       "      <td>6.16</td>\n",
       "      <td>75.0</td>\n",
       "      <td>42.1</td>\n",
       "      <td>548.587312</td>\n",
       "      <td>12366165.0</td>\n",
       "      <td>1.6</td>\n",
       "      <td>1.7</td>\n",
       "      <td>0.427</td>\n",
       "      <td>9.8</td>\n",
       "    </tr>\n",
       "    <tr>\n",
       "      <th>2717</th>\n",
       "      <td>Zimbabwe</td>\n",
       "      <td>2000</td>\n",
       "      <td>Developing</td>\n",
       "      <td>46.0</td>\n",
       "      <td>665.0</td>\n",
       "      <td>24</td>\n",
       "      <td>1.68</td>\n",
       "      <td>0.0</td>\n",
       "      <td>79.0</td>\n",
       "      <td>1483</td>\n",
       "      <td>...</td>\n",
       "      <td>78.0</td>\n",
       "      <td>7.10</td>\n",
       "      <td>78.0</td>\n",
       "      <td>43.5</td>\n",
       "      <td>547.358878</td>\n",
       "      <td>12222251.0</td>\n",
       "      <td>11.0</td>\n",
       "      <td>11.2</td>\n",
       "      <td>0.434</td>\n",
       "      <td>9.8</td>\n",
       "    </tr>\n",
       "  </tbody>\n",
       "</table>\n",
       "<p>5 rows × 22 columns</p>\n",
       "</div>"
      ],
      "text/plain": [
       "       Country  Year      Status  Life expectancy  Adult Mortality  \\\n",
       "2713  Zimbabwe  2004  Developing             44.3            723.0   \n",
       "2714  Zimbabwe  2003  Developing             44.5            715.0   \n",
       "2715  Zimbabwe  2002  Developing             44.8             73.0   \n",
       "2716  Zimbabwe  2001  Developing             45.3            686.0   \n",
       "2717  Zimbabwe  2000  Developing             46.0            665.0   \n",
       "\n",
       "      infant deaths  Alcohol  percentage expenditure  Hepatitis B  Measles  \\\n",
       "2713             27     4.36                     0.0         68.0       31   \n",
       "2714             26     4.06                     0.0          7.0      998   \n",
       "2715             25     4.43                     0.0         73.0      304   \n",
       "2716             25     1.72                     0.0         76.0      529   \n",
       "2717             24     1.68                     0.0         79.0     1483   \n",
       "\n",
       "      ...  Polio  Total expenditure  Diphtheria  HIV/AIDS         GDP  \\\n",
       "2713  ...   67.0               7.13        65.0      33.6  454.366654   \n",
       "2714  ...    7.0               6.52        68.0      36.7  453.351155   \n",
       "2715  ...   73.0               6.53        71.0      39.8   57.348340   \n",
       "2716  ...   76.0               6.16        75.0      42.1  548.587312   \n",
       "2717  ...   78.0               7.10        78.0      43.5  547.358878   \n",
       "\n",
       "      Population  thinness  1-19 years  thinness 5-9 years  \\\n",
       "2713  12777511.0                   9.4                 9.4   \n",
       "2714  12633897.0                   9.8                 9.9   \n",
       "2715    125525.0                   1.2                 1.3   \n",
       "2716  12366165.0                   1.6                 1.7   \n",
       "2717  12222251.0                  11.0                11.2   \n",
       "\n",
       "      Income composition of resources  Schooling  \n",
       "2713                            0.407        9.2  \n",
       "2714                            0.418        9.5  \n",
       "2715                            0.427       10.0  \n",
       "2716                            0.427        9.8  \n",
       "2717                            0.434        9.8  \n",
       "\n",
       "[5 rows x 22 columns]"
      ]
     },
     "metadata": {},
     "output_type": "display_data"
    }
   ],
   "source": [
    "display(df_data.head())\n",
    "display(df_data.tail())"
   ]
  },
  {
   "cell_type": "code",
   "execution_count": 5,
   "id": "b653f9ec",
   "metadata": {},
   "outputs": [
    {
     "name": "stdout",
     "output_type": "stream",
     "text": [
      "<class 'pandas.core.frame.DataFrame'>\n",
      "RangeIndex: 2718 entries, 0 to 2717\n",
      "Data columns (total 22 columns):\n",
      " #   Column                           Non-Null Count  Dtype  \n",
      "---  ------                           --------------  -----  \n",
      " 0   Country                          2718 non-null   object \n",
      " 1   Year                             2718 non-null   int64  \n",
      " 2   Status                           2718 non-null   object \n",
      " 3   Life expectancy                  2718 non-null   float64\n",
      " 4   Adult Mortality                  2718 non-null   float64\n",
      " 5   infant deaths                    2718 non-null   int64  \n",
      " 6   Alcohol                          2564 non-null   float64\n",
      " 7   percentage expenditure           2718 non-null   float64\n",
      " 8   Hepatitis B                      2188 non-null   float64\n",
      " 9   Measles                          2718 non-null   int64  \n",
      " 10  BMI                              2692 non-null   float64\n",
      " 11  under-five deaths                2718 non-null   int64  \n",
      " 12  Polio                            2700 non-null   float64\n",
      " 13  Total expenditure                2529 non-null   float64\n",
      " 14  Diphtheria                       2700 non-null   float64\n",
      " 15  HIV/AIDS                         2718 non-null   float64\n",
      " 16  GDP                              2317 non-null   float64\n",
      " 17  Population                       2116 non-null   float64\n",
      " 18  thinness  1-19 years             2692 non-null   float64\n",
      " 19  thinness 5-9 years               2692 non-null   float64\n",
      " 20  Income composition of resources  2576 non-null   float64\n",
      " 21  Schooling                        2576 non-null   float64\n",
      "dtypes: float64(16), int64(4), object(2)\n",
      "memory usage: 467.3+ KB\n"
     ]
    }
   ],
   "source": [
    "df_data.info()"
   ]
  },
  {
   "cell_type": "code",
   "execution_count": 6,
   "id": "84bb286b",
   "metadata": {},
   "outputs": [
    {
     "data": {
      "text/html": [
       "<div>\n",
       "<style scoped>\n",
       "    .dataframe tbody tr th:only-of-type {\n",
       "        vertical-align: middle;\n",
       "    }\n",
       "\n",
       "    .dataframe tbody tr th {\n",
       "        vertical-align: top;\n",
       "    }\n",
       "\n",
       "    .dataframe thead th {\n",
       "        text-align: right;\n",
       "    }\n",
       "</style>\n",
       "<table border=\"1\" class=\"dataframe\">\n",
       "  <thead>\n",
       "    <tr style=\"text-align: right;\">\n",
       "      <th></th>\n",
       "      <th>Year</th>\n",
       "      <th>Life expectancy</th>\n",
       "      <th>Adult Mortality</th>\n",
       "      <th>infant deaths</th>\n",
       "      <th>Alcohol</th>\n",
       "      <th>percentage expenditure</th>\n",
       "      <th>Hepatitis B</th>\n",
       "      <th>Measles</th>\n",
       "      <th>BMI</th>\n",
       "      <th>under-five deaths</th>\n",
       "      <th>Polio</th>\n",
       "      <th>Total expenditure</th>\n",
       "      <th>Diphtheria</th>\n",
       "      <th>HIV/AIDS</th>\n",
       "      <th>GDP</th>\n",
       "      <th>Population</th>\n",
       "      <th>thinness  1-19 years</th>\n",
       "      <th>thinness 5-9 years</th>\n",
       "      <th>Income composition of resources</th>\n",
       "      <th>Schooling</th>\n",
       "    </tr>\n",
       "  </thead>\n",
       "  <tbody>\n",
       "    <tr>\n",
       "      <th>count</th>\n",
       "      <td>2718.000000</td>\n",
       "      <td>2718.000000</td>\n",
       "      <td>2718.000000</td>\n",
       "      <td>2718.000000</td>\n",
       "      <td>2564.000000</td>\n",
       "      <td>2718.000000</td>\n",
       "      <td>2188.000000</td>\n",
       "      <td>2718.000000</td>\n",
       "      <td>2692.000000</td>\n",
       "      <td>2718.000000</td>\n",
       "      <td>2700.000000</td>\n",
       "      <td>2529.000000</td>\n",
       "      <td>2700.000000</td>\n",
       "      <td>2718.000000</td>\n",
       "      <td>2317.000000</td>\n",
       "      <td>2.116000e+03</td>\n",
       "      <td>2692.000000</td>\n",
       "      <td>2692.000000</td>\n",
       "      <td>2576.000000</td>\n",
       "      <td>2576.000000</td>\n",
       "    </tr>\n",
       "    <tr>\n",
       "      <th>mean</th>\n",
       "      <td>2007.113687</td>\n",
       "      <td>69.204525</td>\n",
       "      <td>164.432303</td>\n",
       "      <td>30.825239</td>\n",
       "      <td>4.672512</td>\n",
       "      <td>757.071658</td>\n",
       "      <td>80.884826</td>\n",
       "      <td>2370.999632</td>\n",
       "      <td>38.314339</td>\n",
       "      <td>42.767476</td>\n",
       "      <td>82.528148</td>\n",
       "      <td>5.943606</td>\n",
       "      <td>82.135926</td>\n",
       "      <td>1.788263</td>\n",
       "      <td>7646.459541</td>\n",
       "      <td>1.261063e+07</td>\n",
       "      <td>4.892236</td>\n",
       "      <td>4.925149</td>\n",
       "      <td>0.626697</td>\n",
       "      <td>11.996079</td>\n",
       "    </tr>\n",
       "    <tr>\n",
       "      <th>std</th>\n",
       "      <td>4.537979</td>\n",
       "      <td>9.612530</td>\n",
       "      <td>125.512789</td>\n",
       "      <td>121.786599</td>\n",
       "      <td>4.051664</td>\n",
       "      <td>2007.472092</td>\n",
       "      <td>25.010075</td>\n",
       "      <td>11174.241799</td>\n",
       "      <td>19.954800</td>\n",
       "      <td>165.704415</td>\n",
       "      <td>23.294376</td>\n",
       "      <td>2.488801</td>\n",
       "      <td>23.849574</td>\n",
       "      <td>5.221587</td>\n",
       "      <td>14455.594394</td>\n",
       "      <td>6.238395e+07</td>\n",
       "      <td>4.434584</td>\n",
       "      <td>4.522269</td>\n",
       "      <td>0.213323</td>\n",
       "      <td>3.364109</td>\n",
       "    </tr>\n",
       "    <tr>\n",
       "      <th>min</th>\n",
       "      <td>2000.000000</td>\n",
       "      <td>36.300000</td>\n",
       "      <td>1.000000</td>\n",
       "      <td>0.000000</td>\n",
       "      <td>0.010000</td>\n",
       "      <td>0.000000</td>\n",
       "      <td>1.000000</td>\n",
       "      <td>0.000000</td>\n",
       "      <td>1.000000</td>\n",
       "      <td>0.000000</td>\n",
       "      <td>3.000000</td>\n",
       "      <td>0.370000</td>\n",
       "      <td>2.000000</td>\n",
       "      <td>0.100000</td>\n",
       "      <td>1.681350</td>\n",
       "      <td>3.400000e+01</td>\n",
       "      <td>0.100000</td>\n",
       "      <td>0.100000</td>\n",
       "      <td>0.000000</td>\n",
       "      <td>0.000000</td>\n",
       "    </tr>\n",
       "    <tr>\n",
       "      <th>25%</th>\n",
       "      <td>2003.000000</td>\n",
       "      <td>63.100000</td>\n",
       "      <td>73.250000</td>\n",
       "      <td>0.000000</td>\n",
       "      <td>0.990000</td>\n",
       "      <td>5.832385</td>\n",
       "      <td>77.000000</td>\n",
       "      <td>0.000000</td>\n",
       "      <td>19.200000</td>\n",
       "      <td>0.000000</td>\n",
       "      <td>77.000000</td>\n",
       "      <td>4.260000</td>\n",
       "      <td>78.000000</td>\n",
       "      <td>0.100000</td>\n",
       "      <td>459.291200</td>\n",
       "      <td>1.829220e+05</td>\n",
       "      <td>1.600000</td>\n",
       "      <td>1.600000</td>\n",
       "      <td>0.492000</td>\n",
       "      <td>10.100000</td>\n",
       "    </tr>\n",
       "    <tr>\n",
       "      <th>50%</th>\n",
       "      <td>2007.000000</td>\n",
       "      <td>72.200000</td>\n",
       "      <td>142.000000</td>\n",
       "      <td>3.000000</td>\n",
       "      <td>3.820000</td>\n",
       "      <td>67.687008</td>\n",
       "      <td>92.000000</td>\n",
       "      <td>18.000000</td>\n",
       "      <td>43.450000</td>\n",
       "      <td>4.000000</td>\n",
       "      <td>93.000000</td>\n",
       "      <td>5.730000</td>\n",
       "      <td>93.000000</td>\n",
       "      <td>0.100000</td>\n",
       "      <td>1741.142552</td>\n",
       "      <td>1.365022e+06</td>\n",
       "      <td>3.400000</td>\n",
       "      <td>3.400000</td>\n",
       "      <td>0.679000</td>\n",
       "      <td>12.300000</td>\n",
       "    </tr>\n",
       "    <tr>\n",
       "      <th>75%</th>\n",
       "      <td>2011.000000</td>\n",
       "      <td>75.800000</td>\n",
       "      <td>227.000000</td>\n",
       "      <td>22.000000</td>\n",
       "      <td>7.832500</td>\n",
       "      <td>446.887709</td>\n",
       "      <td>97.000000</td>\n",
       "      <td>372.000000</td>\n",
       "      <td>56.100000</td>\n",
       "      <td>28.000000</td>\n",
       "      <td>97.000000</td>\n",
       "      <td>7.530000</td>\n",
       "      <td>97.000000</td>\n",
       "      <td>0.800000</td>\n",
       "      <td>6337.882993</td>\n",
       "      <td>7.383590e+06</td>\n",
       "      <td>7.200000</td>\n",
       "      <td>7.300000</td>\n",
       "      <td>0.781000</td>\n",
       "      <td>14.300000</td>\n",
       "    </tr>\n",
       "    <tr>\n",
       "      <th>max</th>\n",
       "      <td>2015.000000</td>\n",
       "      <td>89.000000</td>\n",
       "      <td>723.000000</td>\n",
       "      <td>1800.000000</td>\n",
       "      <td>17.870000</td>\n",
       "      <td>19479.911610</td>\n",
       "      <td>99.000000</td>\n",
       "      <td>212183.000000</td>\n",
       "      <td>77.600000</td>\n",
       "      <td>2500.000000</td>\n",
       "      <td>99.000000</td>\n",
       "      <td>17.600000</td>\n",
       "      <td>99.000000</td>\n",
       "      <td>50.600000</td>\n",
       "      <td>119172.741800</td>\n",
       "      <td>1.293859e+09</td>\n",
       "      <td>27.700000</td>\n",
       "      <td>28.600000</td>\n",
       "      <td>0.938000</td>\n",
       "      <td>20.700000</td>\n",
       "    </tr>\n",
       "  </tbody>\n",
       "</table>\n",
       "</div>"
      ],
      "text/plain": [
       "              Year  Life expectancy  Adult Mortality  infant deaths  \\\n",
       "count  2718.000000      2718.000000      2718.000000    2718.000000   \n",
       "mean   2007.113687        69.204525       164.432303      30.825239   \n",
       "std       4.537979         9.612530       125.512789     121.786599   \n",
       "min    2000.000000        36.300000         1.000000       0.000000   \n",
       "25%    2003.000000        63.100000        73.250000       0.000000   \n",
       "50%    2007.000000        72.200000       142.000000       3.000000   \n",
       "75%    2011.000000        75.800000       227.000000      22.000000   \n",
       "max    2015.000000        89.000000       723.000000    1800.000000   \n",
       "\n",
       "           Alcohol  percentage expenditure  Hepatitis B        Measles  \\\n",
       "count  2564.000000             2718.000000  2188.000000    2718.000000   \n",
       "mean      4.672512              757.071658    80.884826    2370.999632   \n",
       "std       4.051664             2007.472092    25.010075   11174.241799   \n",
       "min       0.010000                0.000000     1.000000       0.000000   \n",
       "25%       0.990000                5.832385    77.000000       0.000000   \n",
       "50%       3.820000               67.687008    92.000000      18.000000   \n",
       "75%       7.832500              446.887709    97.000000     372.000000   \n",
       "max      17.870000            19479.911610    99.000000  212183.000000   \n",
       "\n",
       "               BMI  under-five deaths        Polio  Total expenditure  \\\n",
       "count  2692.000000        2718.000000  2700.000000        2529.000000   \n",
       "mean     38.314339          42.767476    82.528148           5.943606   \n",
       "std      19.954800         165.704415    23.294376           2.488801   \n",
       "min       1.000000           0.000000     3.000000           0.370000   \n",
       "25%      19.200000           0.000000    77.000000           4.260000   \n",
       "50%      43.450000           4.000000    93.000000           5.730000   \n",
       "75%      56.100000          28.000000    97.000000           7.530000   \n",
       "max      77.600000        2500.000000    99.000000          17.600000   \n",
       "\n",
       "        Diphtheria     HIV/AIDS            GDP    Population  \\\n",
       "count  2700.000000  2718.000000    2317.000000  2.116000e+03   \n",
       "mean     82.135926     1.788263    7646.459541  1.261063e+07   \n",
       "std      23.849574     5.221587   14455.594394  6.238395e+07   \n",
       "min       2.000000     0.100000       1.681350  3.400000e+01   \n",
       "25%      78.000000     0.100000     459.291200  1.829220e+05   \n",
       "50%      93.000000     0.100000    1741.142552  1.365022e+06   \n",
       "75%      97.000000     0.800000    6337.882993  7.383590e+06   \n",
       "max      99.000000    50.600000  119172.741800  1.293859e+09   \n",
       "\n",
       "       thinness  1-19 years  thinness 5-9 years  \\\n",
       "count           2692.000000         2692.000000   \n",
       "mean               4.892236            4.925149   \n",
       "std                4.434584            4.522269   \n",
       "min                0.100000            0.100000   \n",
       "25%                1.600000            1.600000   \n",
       "50%                3.400000            3.400000   \n",
       "75%                7.200000            7.300000   \n",
       "max               27.700000           28.600000   \n",
       "\n",
       "       Income composition of resources    Schooling  \n",
       "count                      2576.000000  2576.000000  \n",
       "mean                          0.626697    11.996079  \n",
       "std                           0.213323     3.364109  \n",
       "min                           0.000000     0.000000  \n",
       "25%                           0.492000    10.100000  \n",
       "50%                           0.679000    12.300000  \n",
       "75%                           0.781000    14.300000  \n",
       "max                           0.938000    20.700000  "
      ]
     },
     "execution_count": 6,
     "metadata": {},
     "output_type": "execute_result"
    }
   ],
   "source": [
    "df_data.describe()"
   ]
  },
  {
   "cell_type": "code",
   "execution_count": 7,
   "id": "75e25100",
   "metadata": {},
   "outputs": [
    {
     "data": {
      "text/html": [
       "<div>\n",
       "<style scoped>\n",
       "    .dataframe tbody tr th:only-of-type {\n",
       "        vertical-align: middle;\n",
       "    }\n",
       "\n",
       "    .dataframe tbody tr th {\n",
       "        vertical-align: top;\n",
       "    }\n",
       "\n",
       "    .dataframe thead th {\n",
       "        text-align: right;\n",
       "    }\n",
       "</style>\n",
       "<table border=\"1\" class=\"dataframe\">\n",
       "  <thead>\n",
       "    <tr style=\"text-align: right;\">\n",
       "      <th></th>\n",
       "      <th>Country</th>\n",
       "      <th>Status</th>\n",
       "    </tr>\n",
       "  </thead>\n",
       "  <tbody>\n",
       "    <tr>\n",
       "      <th>count</th>\n",
       "      <td>2718</td>\n",
       "      <td>2718</td>\n",
       "    </tr>\n",
       "    <tr>\n",
       "      <th>unique</th>\n",
       "      <td>183</td>\n",
       "      <td>2</td>\n",
       "    </tr>\n",
       "    <tr>\n",
       "      <th>top</th>\n",
       "      <td>Afghanistan</td>\n",
       "      <td>Developing</td>\n",
       "    </tr>\n",
       "    <tr>\n",
       "      <th>freq</th>\n",
       "      <td>16</td>\n",
       "      <td>2248</td>\n",
       "    </tr>\n",
       "  </tbody>\n",
       "</table>\n",
       "</div>"
      ],
      "text/plain": [
       "            Country      Status\n",
       "count          2718        2718\n",
       "unique          183           2\n",
       "top     Afghanistan  Developing\n",
       "freq             16        2248"
      ]
     },
     "execution_count": 7,
     "metadata": {},
     "output_type": "execute_result"
    }
   ],
   "source": [
    "df_data.select_dtypes(include=[\"object\"]).describe()"
   ]
  },
  {
   "cell_type": "code",
   "execution_count": 8,
   "id": "b1b9602b",
   "metadata": {},
   "outputs": [
    {
     "data": {
      "text/plain": [
       "Country                            False\n",
       "Year                               False\n",
       "Status                             False\n",
       "Life expectancy                    False\n",
       "Adult Mortality                    False\n",
       "infant deaths                      False\n",
       "Alcohol                             True\n",
       "percentage expenditure             False\n",
       "Hepatitis B                         True\n",
       "Measles                            False\n",
       "BMI                                 True\n",
       "under-five deaths                  False\n",
       "Polio                               True\n",
       "Total expenditure                   True\n",
       "Diphtheria                          True\n",
       "HIV/AIDS                           False\n",
       "GDP                                 True\n",
       "Population                          True\n",
       "thinness  1-19 years                True\n",
       "thinness 5-9 years                  True\n",
       "Income composition of resources     True\n",
       "Schooling                           True\n",
       "dtype: bool"
      ]
     },
     "execution_count": 8,
     "metadata": {},
     "output_type": "execute_result"
    }
   ],
   "source": [
    "df_data.isna().any()"
   ]
  },
  {
   "cell_type": "code",
   "execution_count": 9,
   "id": "e1f5ff49",
   "metadata": {},
   "outputs": [
    {
     "data": {
      "text/plain": [
       "Country                             183\n",
       "Year                                 16\n",
       "Status                                2\n",
       "Life expectancy                     359\n",
       "Adult Mortality                     423\n",
       "infant deaths                       195\n",
       "Alcohol                            1055\n",
       "percentage expenditure             2185\n",
       "Hepatitis B                          87\n",
       "Measles                             909\n",
       "BMI                                 600\n",
       "under-five deaths                   239\n",
       "Polio                                73\n",
       "Total expenditure                   792\n",
       "Diphtheria                           81\n",
       "HIV/AIDS                            197\n",
       "GDP                                2317\n",
       "Population                         2110\n",
       "thinness  1-19 years                194\n",
       "thinness 5-9 years                  200\n",
       "Income composition of resources     613\n",
       "Schooling                           173\n",
       "dtype: int64"
      ]
     },
     "execution_count": 9,
     "metadata": {},
     "output_type": "execute_result"
    }
   ],
   "source": [
    "df_data.nunique()"
   ]
  },
  {
   "cell_type": "markdown",
   "id": "2c450a28",
   "metadata": {},
   "source": [
    "## Analyza a Uprava Priznaku"
   ]
  },
  {
   "cell_type": "markdown",
   "id": "9852a2bc",
   "metadata": {},
   "source": [
    "### Country\n",
    "***"
   ]
  },
  {
   "cell_type": "markdown",
   "id": "c875c839",
   "metadata": {},
   "source": [
    "Tento priznak nema chybejici hodnoty, nemusim s tim nic resit."
   ]
  },
  {
   "cell_type": "code",
   "execution_count": 10,
   "id": "9538dc05",
   "metadata": {},
   "outputs": [
    {
     "data": {
      "text/plain": [
       "183"
      ]
     },
     "execution_count": 10,
     "metadata": {},
     "output_type": "execute_result"
    }
   ],
   "source": [
    "df_data['Country'].nunique()"
   ]
  },
  {
   "cell_type": "markdown",
   "id": "1d963d8d",
   "metadata": {},
   "source": [
    "Vidime ze mame 183 unikatnich hodnot. Tento priznak je diskretni nominalni, nedava smysl usporadani. \n",
    "\n",
    "Muzeme to opravit dvema zpusoby:\n"
   ]
  },
  {
   "cell_type": "markdown",
   "id": "6deffa6c",
   "metadata": {},
   "source": [
    "**One-hot:**\n",
    "\n",
    "Pro rozhodovaci stromy v nahodnem lesu nominalni priznak bude problematicky protoze tam se to chova ke vsem priznakum jako k ordinalnim. Proto sice pri pouziti one-hot encoding se zvysi dimenzionalita, ale rozhodovaci stromy jsou proti tomuto odolne.\n",
    "\n",
    "Linearni regrese muze mit problem, ze timto muzeme vytvorit nebo zhorsit problem kolinearity nebo vytvorit linearne zavisle priznaky. Ale muzeme provest one-hot encoding a pouzit lasso k odstraneni kolinearnich nebo linearne zavislych priznaku.\n",
    "\n",
    "Hrebenova regrese a lasso kvuli regularizacnimu clenu one-hot encoding dokaze zvladnout. Budeme mit ve vysledku vice vah, ktere bude potreba penalizovat. "
   ]
  },
  {
   "cell_type": "markdown",
   "id": "96278db2",
   "metadata": {},
   "source": [
    "**Problemy one-hot:**\n",
    "\n",
    "\n",
    "Musime zarucit, ze pri one-hot encodingu na vstupu nedostaneme stat, pro ktery neexistuje prislusny priznak. Tj. bude potreba vzycky upravit vstup tak, aby prevedl data do spravneho tvaru, aby priznaky byly ve spravnem poradi a byli kompletni. \n",
    "\n",
    "Pri zkoumani datasetu evaluations.csv muzeme si vsimnout ze ma mene statu, ale neobsahuje nic navic oproti nasemu datasetu data.csv. Tj. bude potreba chytre upravit evaluations.csv, aby mel stejnou one-hot strukturu."
   ]
  },
  {
   "cell_type": "markdown",
   "id": "639bdab8",
   "metadata": {},
   "source": [
    "**Prevedeni na ciselnou reprezentaci pomoci LabelEncoder nebo cat.codes:**\n",
    "\n",
    "Pro rozhodovaci stromy v nahodnem lese to bude problem, protoze jak jiz bylo receno vyse, rozhodovaci stromu chovaji se k datum jako k ordinalnim. \n",
    "\n",
    "Linearni, hrebenova regrese a lasso taky to nemuseji zvladnout dobre, protoze budou muset nastavit vahu, kterou se hodnota priznaku bude nasobit, coz nemusi davat smysl, kdy dva staty budou tesne vedle sebe ale mit velmi rozdilne vysvetlovane promenne. Muze tady zahrat roli i ucrite serazeni."
   ]
  },
  {
   "cell_type": "markdown",
   "id": "20c7c82d",
   "metadata": {},
   "source": [
    "Zatim pro jednoduchost pouzijeme cat.codes, protoze je to casove mene narocne, pokud zbyde cas, zkusime one-hot"
   ]
  },
  {
   "cell_type": "code",
   "execution_count": 11,
   "id": "05032748",
   "metadata": {},
   "outputs": [
    {
     "name": "stdout",
     "output_type": "stream",
     "text": [
      "<class 'pandas.core.series.Series'>\n",
      "RangeIndex: 2718 entries, 0 to 2717\n",
      "Series name: Country\n",
      "Non-Null Count  Dtype \n",
      "--------------  ----- \n",
      "2718 non-null   object\n",
      "dtypes: object(1)\n",
      "memory usage: 21.4+ KB\n"
     ]
    }
   ],
   "source": [
    "df_data['Country'].info()"
   ]
  },
  {
   "cell_type": "code",
   "execution_count": 12,
   "id": "1d4ec819",
   "metadata": {},
   "outputs": [
    {
     "data": {
      "text/plain": [
       "count            2718\n",
       "unique            183\n",
       "top       Afghanistan\n",
       "freq               16\n",
       "Name: Country, dtype: object"
      ]
     },
     "execution_count": 12,
     "metadata": {},
     "output_type": "execute_result"
    }
   ],
   "source": [
    "df_data['Country'].describe()"
   ]
  },
  {
   "cell_type": "markdown",
   "id": "439312d4",
   "metadata": {},
   "source": [
    "### Year\n",
    "***"
   ]
  },
  {
   "cell_type": "markdown",
   "id": "1f000e62",
   "metadata": {},
   "source": [
    "Tento priznak neobsahuje chybejici hodnoty, nemusime to resit."
   ]
  },
  {
   "cell_type": "markdown",
   "id": "49ec2abe",
   "metadata": {},
   "source": [
    "Year muzeme chapat jako ordinalni priznak. Opravdu usporadat roky dava smysl. Nastesti je reprezentovan datovym typem int64, takze nemusime provadet konverzi, roky se budou porovnavat dobre."
   ]
  },
  {
   "cell_type": "code",
   "execution_count": 13,
   "id": "c2783231",
   "metadata": {},
   "outputs": [
    {
     "name": "stdout",
     "output_type": "stream",
     "text": [
      "<class 'pandas.core.series.Series'>\n",
      "RangeIndex: 2718 entries, 0 to 2717\n",
      "Series name: Year\n",
      "Non-Null Count  Dtype\n",
      "--------------  -----\n",
      "2718 non-null   int64\n",
      "dtypes: int64(1)\n",
      "memory usage: 21.4 KB\n"
     ]
    }
   ],
   "source": [
    "df_data['Year'].info()"
   ]
  },
  {
   "cell_type": "code",
   "execution_count": 14,
   "id": "dac4fbc4",
   "metadata": {},
   "outputs": [
    {
     "data": {
      "text/plain": [
       "array([2015, 2014, 2013, 2012, 2011, 2010, 2009, 2008, 2007, 2006, 2005,\n",
       "       2004, 2003, 2002, 2001, 2000])"
      ]
     },
     "execution_count": 14,
     "metadata": {},
     "output_type": "execute_result"
    }
   ],
   "source": [
    "df_data['Year'].unique()"
   ]
  },
  {
   "cell_type": "markdown",
   "id": "86b230c0",
   "metadata": {},
   "source": [
    "### Status\n",
    "***"
   ]
  },
  {
   "cell_type": "markdown",
   "id": "a73c71ed",
   "metadata": {},
   "source": [
    "Tento priznak je binarni, obsahuje pouze dve unikatni hodnoty, proto muzeme ho prevest na kategoricky neusporadany typ."
   ]
  },
  {
   "cell_type": "markdown",
   "id": "38f237f9",
   "metadata": {},
   "source": [
    "### Life Expectancy\n",
    "***"
   ]
  },
  {
   "cell_type": "markdown",
   "id": "e2d2cbaa",
   "metadata": {},
   "source": [
    "Tento priznak je nase vysvetlovana promenna, vypada v poradku, jenom osetrime jeste na odlehle hodnoty"
   ]
  },
  {
   "cell_type": "code",
   "execution_count": 15,
   "id": "abf19e3d",
   "metadata": {},
   "outputs": [
    {
     "data": {
      "text/plain": [
       "0    65.0\n",
       "1    59.9\n",
       "2    59.9\n",
       "3    59.5\n",
       "4    59.2\n",
       "Name: Life expectancy, dtype: float64"
      ]
     },
     "metadata": {},
     "output_type": "display_data"
    },
    {
     "data": {
      "text/plain": [
       "2713    44.3\n",
       "2714    44.5\n",
       "2715    44.8\n",
       "2716    45.3\n",
       "2717    46.0\n",
       "Name: Life expectancy, dtype: float64"
      ]
     },
     "metadata": {},
     "output_type": "display_data"
    }
   ],
   "source": [
    "display(df_data['Life expectancy'].head())\n",
    "display(df_data['Life expectancy'].tail())"
   ]
  },
  {
   "cell_type": "code",
   "execution_count": 16,
   "id": "899a0335",
   "metadata": {},
   "outputs": [
    {
     "data": {
      "text/plain": [
       "count    2718.000000\n",
       "mean       69.204525\n",
       "std         9.612530\n",
       "min        36.300000\n",
       "25%        63.100000\n",
       "50%        72.200000\n",
       "75%        75.800000\n",
       "max        89.000000\n",
       "Name: Life expectancy, dtype: float64"
      ]
     },
     "execution_count": 16,
     "metadata": {},
     "output_type": "execute_result"
    }
   ],
   "source": [
    "df_data['Life expectancy'].describe()"
   ]
  },
  {
   "cell_type": "code",
   "execution_count": 17,
   "id": "5ff48c29",
   "metadata": {},
   "outputs": [
    {
     "data": {
      "image/png": "[encoded data removed]",
      "text/plain": [
       "<Figure size 640x480 with 1 Axes>"
      ]
     },
     "metadata": {},
     "output_type": "display_data"
    }
   ],
   "source": [
    "fig, ax = plt.subplots()\n",
    "ax.boxplot(df_data['Life expectancy'])\n",
    "ax.set_title(\"Life expectancy\")\n",
    "fig.show()"
   ]
  },
  {
   "cell_type": "code",
   "execution_count": 18,
   "id": "e0267195",
   "metadata": {},
   "outputs": [
    {
     "name": "stdout",
     "output_type": "stream",
     "text": [
      "Under minimum - 44.05: 10\n"
     ]
    }
   ],
   "source": [
    "Q3 = 75.8\n",
    "Q1 = 63.1\n",
    "IQR = Q3 - Q1\n",
    "lower_bound = Q1 - 1.5* IQR\n",
    "print(f\"Under minimum - {lower_bound:.2f}: {(df_data['Life expectancy'] < lower_bound).sum()}\")"
   ]
  },
  {
   "cell_type": "markdown",
   "id": "7741f703",
   "metadata": {},
   "source": [
    "Vidime, ze nejake odlehle hodnoty sice mame, ale jsou docela tesne k lower boundu a je jich jenom 10. Rozhodovaci strom outlieri neovlivni. Linearni, hrebenovou regresi a lasso 10 outlieru nemelo by ovlivnit."
   ]
  },
  {
   "cell_type": "markdown",
   "id": "ded81925",
   "metadata": {},
   "source": [
    "### Zbytek Priznaku\n",
    "***"
   ]
  },
  {
   "cell_type": "markdown",
   "id": "312d18d6",
   "metadata": {},
   "source": [
    "Zbytek priznaku vypada v poradku (alespoň zádné záporné hodnoy tam kde to nemá smysl) krome chybejicich hodnot a moznych odlehlych hodnot. Chybejici hodnoty budeme resit zvlast pro nahodny les a pro modely typu linearni regrese."
   ]
  },
  {
   "cell_type": "markdown",
   "id": "724ccc68",
   "metadata": {},
   "source": [
    "Jedine co tady udelame - koukneme na odlehle hodnoty, abychom meli o tom informaci. Sice to zatim resit nebudeme, ale pokud zbyde cas, meli bychom pro modely typu linearni regrese je odstranit nebo nejak inteligentne omezit (napriklad na trenovacich datech se naucit nejaky maximum a minimum a na validacnich nebo testovacich datech orezavat hodnoty, pokud by se nevesli do intervalu nauceneho z trenovacich dat), protoze outlieri mohou spatne ovlivnit intercept (posuniti nadrovny) a sklon nadroviny pomoci ktere predikujeme."
   ]
  },
  {
   "cell_type": "code",
   "execution_count": 19,
   "id": "6892c159",
   "metadata": {},
   "outputs": [],
   "source": [
    "cols_to_inspect  = [column for column in df_data.columns if column not in ['Country', 'Year', 'Status', 'Life expectancy']]"
   ]
  },
  {
   "cell_type": "code",
   "execution_count": 20,
   "id": "9f5d56e2",
   "metadata": {},
   "outputs": [
    {
     "name": "stdout",
     "output_type": "stream",
     "text": [
      "['Adult Mortality', 'infant deaths', 'Alcohol', 'percentage expenditure', 'Hepatitis B', 'Measles', 'BMI', 'under-five deaths', 'Polio', 'Total expenditure', 'Diphtheria', 'HIV/AIDS', 'GDP', 'Population', 'thinness  1-19 years', 'thinness 5-9 years', 'Income composition of resources', 'Schooling']\n",
      "Columns number: 18\n"
     ]
    }
   ],
   "source": [
    "print(cols_to_inspect)\n",
    "print(f\"Columns number: {len(cols_to_inspect)}\")"
   ]
  },
  {
   "cell_type": "code",
   "execution_count": 21,
   "id": "d9649f21",
   "metadata": {},
   "outputs": [
    {
     "data": {
      "image/png": "[encoded data removed]",
      "text/plain": [
       "<Figure size 1000x1600 with 18 Axes>"
      ]
     },
     "metadata": {},
     "output_type": "display_data"
    }
   ],
   "source": [
    "fig, axes = plt.subplots(nrows=6, ncols=3, constrained_layout=True, figsize=(10,16))\n",
    "for i in range(0, 18):\n",
    "    row = i // 3\n",
    "    col = i % 3\n",
    "    axes[row][col].set_title(cols_to_inspect[i])\n",
    "    # nezapomene odstranit chybejici hodnoty, jinak boxplot selze\n",
    "    axes[row][col].boxplot(df_data[cols_to_inspect[i]].dropna())\n",
    "fig.show()"
   ]
  },
  {
   "cell_type": "markdown",
   "id": "5f81c1e6",
   "metadata": {},
   "source": [
    "Vidime ze dataset ma opravdu dost outlieru. Zase, pokud stihneme, tak to potom poresime bud odstranenim dat, anebo naucime se z trenovaci mnoziny jak outliery oriznout (napriklad nahradit lower boundem (Q1 - 1.5 * IQR) nebo upper boundem (Q3 + 1.5 * IQR) na zaklade trenovacich dat (nikoliv validacnich nebo nedej boze testovacich), idealne se zvazenim relativniho poctu outlieru a miry jejich odlehlosti)"
   ]
  },
  {
   "cell_type": "markdown",
   "id": "bb1cb9c9",
   "metadata": {},
   "source": [
    "Co bychom mohli jeste analyzovat (aby to bylo vhodne pro vsechny uvazovane modely ktere budeme zkouset)? \n",
    "\n",
    "\n",
    "Mohli bychom posoudit korelacni koeficienty mezi jednotlivymi priznaky, na zaklade cehoz bychom mohli nektere z nich vyhodit (protoze by mohli byt de facto linearni kombinaci jineho sloupce nebo kolinearni s jinym sloupcem). Tuto ulohu bychom mohli resit pomoci ruznych algoritmu pro vyber priznaku."
   ]
  },
  {
   "cell_type": "markdown",
   "id": "f81251d3",
   "metadata": {},
   "source": [
    "### Uprava Priznaku\n",
    "***"
   ]
  },
  {
   "cell_type": "markdown",
   "id": "a7739b76",
   "metadata": {},
   "source": [
    "Zatim usetrime si cas a udelame co nejrychleji nejnutnější upravy - prevedeme Country a Status pomoci LabelEncoder na ciselne hodnoty. Dalsi upravy budeme provadet v zavislosti na modelu. Pokud zbyde cas zkusime OneHotEncoder od scikitu."
   ]
  },
  {
   "cell_type": "code",
   "execution_count": 30,
   "id": "4db7a505",
   "metadata": {},
   "outputs": [],
   "source": [
    "df_preprocessed = df_data.copy(deep=True)"
   ]
  },
  {
   "cell_type": "code",
   "execution_count": 32,
   "id": "64215828",
   "metadata": {},
   "outputs": [
    {
     "data": {
      "text/html": [
       "<div>\n",
       "<style scoped>\n",
       "    .dataframe tbody tr th:only-of-type {\n",
       "        vertical-align: middle;\n",
       "    }\n",
       "\n",
       "    .dataframe tbody tr th {\n",
       "        vertical-align: top;\n",
       "    }\n",
       "\n",
       "    .dataframe thead th {\n",
       "        text-align: right;\n",
       "    }\n",
       "</style>\n",
       "<table border=\"1\" class=\"dataframe\">\n",
       "  <thead>\n",
       "    <tr style=\"text-align: right;\">\n",
       "      <th></th>\n",
       "      <th>Country</th>\n",
       "      <th>Year</th>\n",
       "      <th>Status</th>\n",
       "      <th>Life expectancy</th>\n",
       "      <th>Adult Mortality</th>\n",
       "      <th>infant deaths</th>\n",
       "      <th>Alcohol</th>\n",
       "      <th>percentage expenditure</th>\n",
       "      <th>Hepatitis B</th>\n",
       "      <th>Measles</th>\n",
       "      <th>...</th>\n",
       "      <th>Polio</th>\n",
       "      <th>Total expenditure</th>\n",
       "      <th>Diphtheria</th>\n",
       "      <th>HIV/AIDS</th>\n",
       "      <th>GDP</th>\n",
       "      <th>Population</th>\n",
       "      <th>thinness  1-19 years</th>\n",
       "      <th>thinness 5-9 years</th>\n",
       "      <th>Income composition of resources</th>\n",
       "      <th>Schooling</th>\n",
       "    </tr>\n",
       "  </thead>\n",
       "  <tbody>\n",
       "    <tr>\n",
       "      <th>0</th>\n",
       "      <td>0</td>\n",
       "      <td>2015</td>\n",
       "      <td>Developing</td>\n",
       "      <td>65.0</td>\n",
       "      <td>263.0</td>\n",
       "      <td>62</td>\n",
       "      <td>0.01</td>\n",
       "      <td>71.279624</td>\n",
       "      <td>65.0</td>\n",
       "      <td>1154</td>\n",
       "      <td>...</td>\n",
       "      <td>6.0</td>\n",
       "      <td>8.16</td>\n",
       "      <td>65.0</td>\n",
       "      <td>0.1</td>\n",
       "      <td>584.259210</td>\n",
       "      <td>33736494.0</td>\n",
       "      <td>17.2</td>\n",
       "      <td>17.3</td>\n",
       "      <td>0.479</td>\n",
       "      <td>10.1</td>\n",
       "    </tr>\n",
       "    <tr>\n",
       "      <th>1</th>\n",
       "      <td>0</td>\n",
       "      <td>2014</td>\n",
       "      <td>Developing</td>\n",
       "      <td>59.9</td>\n",
       "      <td>271.0</td>\n",
       "      <td>64</td>\n",
       "      <td>0.01</td>\n",
       "      <td>73.523582</td>\n",
       "      <td>62.0</td>\n",
       "      <td>492</td>\n",
       "      <td>...</td>\n",
       "      <td>58.0</td>\n",
       "      <td>8.18</td>\n",
       "      <td>62.0</td>\n",
       "      <td>0.1</td>\n",
       "      <td>612.696514</td>\n",
       "      <td>327582.0</td>\n",
       "      <td>17.5</td>\n",
       "      <td>17.5</td>\n",
       "      <td>0.476</td>\n",
       "      <td>10.0</td>\n",
       "    </tr>\n",
       "    <tr>\n",
       "      <th>2</th>\n",
       "      <td>0</td>\n",
       "      <td>2013</td>\n",
       "      <td>Developing</td>\n",
       "      <td>59.9</td>\n",
       "      <td>268.0</td>\n",
       "      <td>66</td>\n",
       "      <td>0.01</td>\n",
       "      <td>73.219243</td>\n",
       "      <td>64.0</td>\n",
       "      <td>430</td>\n",
       "      <td>...</td>\n",
       "      <td>62.0</td>\n",
       "      <td>8.13</td>\n",
       "      <td>64.0</td>\n",
       "      <td>0.1</td>\n",
       "      <td>631.744976</td>\n",
       "      <td>31731688.0</td>\n",
       "      <td>17.7</td>\n",
       "      <td>17.7</td>\n",
       "      <td>0.470</td>\n",
       "      <td>9.9</td>\n",
       "    </tr>\n",
       "    <tr>\n",
       "      <th>3</th>\n",
       "      <td>0</td>\n",
       "      <td>2012</td>\n",
       "      <td>Developing</td>\n",
       "      <td>59.5</td>\n",
       "      <td>272.0</td>\n",
       "      <td>69</td>\n",
       "      <td>0.01</td>\n",
       "      <td>78.184215</td>\n",
       "      <td>67.0</td>\n",
       "      <td>2787</td>\n",
       "      <td>...</td>\n",
       "      <td>67.0</td>\n",
       "      <td>8.52</td>\n",
       "      <td>67.0</td>\n",
       "      <td>0.1</td>\n",
       "      <td>669.959000</td>\n",
       "      <td>3696958.0</td>\n",
       "      <td>17.9</td>\n",
       "      <td>18.0</td>\n",
       "      <td>0.463</td>\n",
       "      <td>9.8</td>\n",
       "    </tr>\n",
       "    <tr>\n",
       "      <th>4</th>\n",
       "      <td>0</td>\n",
       "      <td>2011</td>\n",
       "      <td>Developing</td>\n",
       "      <td>59.2</td>\n",
       "      <td>275.0</td>\n",
       "      <td>71</td>\n",
       "      <td>0.01</td>\n",
       "      <td>7.097109</td>\n",
       "      <td>68.0</td>\n",
       "      <td>3013</td>\n",
       "      <td>...</td>\n",
       "      <td>68.0</td>\n",
       "      <td>7.87</td>\n",
       "      <td>68.0</td>\n",
       "      <td>0.1</td>\n",
       "      <td>63.537231</td>\n",
       "      <td>2978599.0</td>\n",
       "      <td>18.2</td>\n",
       "      <td>18.2</td>\n",
       "      <td>0.454</td>\n",
       "      <td>9.5</td>\n",
       "    </tr>\n",
       "  </tbody>\n",
       "</table>\n",
       "<p>5 rows × 22 columns</p>\n",
       "</div>"
      ],
      "text/plain": [
       "   Country  Year      Status  Life expectancy  Adult Mortality  infant deaths  \\\n",
       "0        0  2015  Developing             65.0            263.0             62   \n",
       "1        0  2014  Developing             59.9            271.0             64   \n",
       "2        0  2013  Developing             59.9            268.0             66   \n",
       "3        0  2012  Developing             59.5            272.0             69   \n",
       "4        0  2011  Developing             59.2            275.0             71   \n",
       "\n",
       "   Alcohol  percentage expenditure  Hepatitis B  Measles  ...  Polio  \\\n",
       "0     0.01               71.279624         65.0     1154  ...    6.0   \n",
       "1     0.01               73.523582         62.0      492  ...   58.0   \n",
       "2     0.01               73.219243         64.0      430  ...   62.0   \n",
       "3     0.01               78.184215         67.0     2787  ...   67.0   \n",
       "4     0.01                7.097109         68.0     3013  ...   68.0   \n",
       "\n",
       "   Total expenditure  Diphtheria  HIV/AIDS         GDP  Population  \\\n",
       "0               8.16        65.0       0.1  584.259210  33736494.0   \n",
       "1               8.18        62.0       0.1  612.696514    327582.0   \n",
       "2               8.13        64.0       0.1  631.744976  31731688.0   \n",
       "3               8.52        67.0       0.1  669.959000   3696958.0   \n",
       "4               7.87        68.0       0.1   63.537231   2978599.0   \n",
       "\n",
       "   thinness  1-19 years  thinness 5-9 years  Income composition of resources  \\\n",
       "0                  17.2                17.3                            0.479   \n",
       "1                  17.5                17.5                            0.476   \n",
       "2                  17.7                17.7                            0.470   \n",
       "3                  17.9                18.0                            0.463   \n",
       "4                  18.2                18.2                            0.454   \n",
       "\n",
       "   Schooling  \n",
       "0       10.1  \n",
       "1       10.0  \n",
       "2        9.9  \n",
       "3        9.8  \n",
       "4        9.5  \n",
       "\n",
       "[5 rows x 22 columns]"
      ]
     },
     "execution_count": 32,
     "metadata": {},
     "output_type": "execute_result"
    }
   ],
   "source": [
    "country_label_encoder = LabelEncoder()\n",
    "country_label_encoder.fit(df_data['Country'])\n",
    "df_preprocessed['Country'] = country_label_encoder.transform(df_data['Country'])\n",
    "df_preprocessed.head()"
   ]
  },
  {
   "cell_type": "code",
   "execution_count": 33,
   "id": "1d9666ee",
   "metadata": {},
   "outputs": [
    {
     "data": {
      "text/html": [
       "<div>\n",
       "<style scoped>\n",
       "    .dataframe tbody tr th:only-of-type {\n",
       "        vertical-align: middle;\n",
       "    }\n",
       "\n",
       "    .dataframe tbody tr th {\n",
       "        vertical-align: top;\n",
       "    }\n",
       "\n",
       "    .dataframe thead th {\n",
       "        text-align: right;\n",
       "    }\n",
       "</style>\n",
       "<table border=\"1\" class=\"dataframe\">\n",
       "  <thead>\n",
       "    <tr style=\"text-align: right;\">\n",
       "      <th></th>\n",
       "      <th>Country</th>\n",
       "      <th>Year</th>\n",
       "      <th>Status</th>\n",
       "      <th>Life expectancy</th>\n",
       "      <th>Adult Mortality</th>\n",
       "      <th>infant deaths</th>\n",
       "      <th>Alcohol</th>\n",
       "      <th>percentage expenditure</th>\n",
       "      <th>Hepatitis B</th>\n",
       "      <th>Measles</th>\n",
       "      <th>...</th>\n",
       "      <th>Polio</th>\n",
       "      <th>Total expenditure</th>\n",
       "      <th>Diphtheria</th>\n",
       "      <th>HIV/AIDS</th>\n",
       "      <th>GDP</th>\n",
       "      <th>Population</th>\n",
       "      <th>thinness  1-19 years</th>\n",
       "      <th>thinness 5-9 years</th>\n",
       "      <th>Income composition of resources</th>\n",
       "      <th>Schooling</th>\n",
       "    </tr>\n",
       "  </thead>\n",
       "  <tbody>\n",
       "    <tr>\n",
       "      <th>0</th>\n",
       "      <td>0</td>\n",
       "      <td>2015</td>\n",
       "      <td>1</td>\n",
       "      <td>65.0</td>\n",
       "      <td>263.0</td>\n",
       "      <td>62</td>\n",
       "      <td>0.01</td>\n",
       "      <td>71.279624</td>\n",
       "      <td>65.0</td>\n",
       "      <td>1154</td>\n",
       "      <td>...</td>\n",
       "      <td>6.0</td>\n",
       "      <td>8.16</td>\n",
       "      <td>65.0</td>\n",
       "      <td>0.1</td>\n",
       "      <td>584.259210</td>\n",
       "      <td>33736494.0</td>\n",
       "      <td>17.2</td>\n",
       "      <td>17.3</td>\n",
       "      <td>0.479</td>\n",
       "      <td>10.1</td>\n",
       "    </tr>\n",
       "    <tr>\n",
       "      <th>1</th>\n",
       "      <td>0</td>\n",
       "      <td>2014</td>\n",
       "      <td>1</td>\n",
       "      <td>59.9</td>\n",
       "      <td>271.0</td>\n",
       "      <td>64</td>\n",
       "      <td>0.01</td>\n",
       "      <td>73.523582</td>\n",
       "      <td>62.0</td>\n",
       "      <td>492</td>\n",
       "      <td>...</td>\n",
       "      <td>58.0</td>\n",
       "      <td>8.18</td>\n",
       "      <td>62.0</td>\n",
       "      <td>0.1</td>\n",
       "      <td>612.696514</td>\n",
       "      <td>327582.0</td>\n",
       "      <td>17.5</td>\n",
       "      <td>17.5</td>\n",
       "      <td>0.476</td>\n",
       "      <td>10.0</td>\n",
       "    </tr>\n",
       "    <tr>\n",
       "      <th>2</th>\n",
       "      <td>0</td>\n",
       "      <td>2013</td>\n",
       "      <td>1</td>\n",
       "      <td>59.9</td>\n",
       "      <td>268.0</td>\n",
       "      <td>66</td>\n",
       "      <td>0.01</td>\n",
       "      <td>73.219243</td>\n",
       "      <td>64.0</td>\n",
       "      <td>430</td>\n",
       "      <td>...</td>\n",
       "      <td>62.0</td>\n",
       "      <td>8.13</td>\n",
       "      <td>64.0</td>\n",
       "      <td>0.1</td>\n",
       "      <td>631.744976</td>\n",
       "      <td>31731688.0</td>\n",
       "      <td>17.7</td>\n",
       "      <td>17.7</td>\n",
       "      <td>0.470</td>\n",
       "      <td>9.9</td>\n",
       "    </tr>\n",
       "    <tr>\n",
       "      <th>3</th>\n",
       "      <td>0</td>\n",
       "      <td>2012</td>\n",
       "      <td>1</td>\n",
       "      <td>59.5</td>\n",
       "      <td>272.0</td>\n",
       "      <td>69</td>\n",
       "      <td>0.01</td>\n",
       "      <td>78.184215</td>\n",
       "      <td>67.0</td>\n",
       "      <td>2787</td>\n",
       "      <td>...</td>\n",
       "      <td>67.0</td>\n",
       "      <td>8.52</td>\n",
       "      <td>67.0</td>\n",
       "      <td>0.1</td>\n",
       "      <td>669.959000</td>\n",
       "      <td>3696958.0</td>\n",
       "      <td>17.9</td>\n",
       "      <td>18.0</td>\n",
       "      <td>0.463</td>\n",
       "      <td>9.8</td>\n",
       "    </tr>\n",
       "    <tr>\n",
       "      <th>4</th>\n",
       "      <td>0</td>\n",
       "      <td>2011</td>\n",
       "      <td>1</td>\n",
       "      <td>59.2</td>\n",
       "      <td>275.0</td>\n",
       "      <td>71</td>\n",
       "      <td>0.01</td>\n",
       "      <td>7.097109</td>\n",
       "      <td>68.0</td>\n",
       "      <td>3013</td>\n",
       "      <td>...</td>\n",
       "      <td>68.0</td>\n",
       "      <td>7.87</td>\n",
       "      <td>68.0</td>\n",
       "      <td>0.1</td>\n",
       "      <td>63.537231</td>\n",
       "      <td>2978599.0</td>\n",
       "      <td>18.2</td>\n",
       "      <td>18.2</td>\n",
       "      <td>0.454</td>\n",
       "      <td>9.5</td>\n",
       "    </tr>\n",
       "  </tbody>\n",
       "</table>\n",
       "<p>5 rows × 22 columns</p>\n",
       "</div>"
      ],
      "text/plain": [
       "   Country  Year  Status  Life expectancy  Adult Mortality  infant deaths  \\\n",
       "0        0  2015       1             65.0            263.0             62   \n",
       "1        0  2014       1             59.9            271.0             64   \n",
       "2        0  2013       1             59.9            268.0             66   \n",
       "3        0  2012       1             59.5            272.0             69   \n",
       "4        0  2011       1             59.2            275.0             71   \n",
       "\n",
       "   Alcohol  percentage expenditure  Hepatitis B  Measles  ...  Polio  \\\n",
       "0     0.01               71.279624         65.0     1154  ...    6.0   \n",
       "1     0.01               73.523582         62.0      492  ...   58.0   \n",
       "2     0.01               73.219243         64.0      430  ...   62.0   \n",
       "3     0.01               78.184215         67.0     2787  ...   67.0   \n",
       "4     0.01                7.097109         68.0     3013  ...   68.0   \n",
       "\n",
       "   Total expenditure  Diphtheria  HIV/AIDS         GDP  Population  \\\n",
       "0               8.16        65.0       0.1  584.259210  33736494.0   \n",
       "1               8.18        62.0       0.1  612.696514    327582.0   \n",
       "2               8.13        64.0       0.1  631.744976  31731688.0   \n",
       "3               8.52        67.0       0.1  669.959000   3696958.0   \n",
       "4               7.87        68.0       0.1   63.537231   2978599.0   \n",
       "\n",
       "   thinness  1-19 years  thinness 5-9 years  Income composition of resources  \\\n",
       "0                  17.2                17.3                            0.479   \n",
       "1                  17.5                17.5                            0.476   \n",
       "2                  17.7                17.7                            0.470   \n",
       "3                  17.9                18.0                            0.463   \n",
       "4                  18.2                18.2                            0.454   \n",
       "\n",
       "   Schooling  \n",
       "0       10.1  \n",
       "1       10.0  \n",
       "2        9.9  \n",
       "3        9.8  \n",
       "4        9.5  \n",
       "\n",
       "[5 rows x 22 columns]"
      ]
     },
     "execution_count": 33,
     "metadata": {},
     "output_type": "execute_result"
    }
   ],
   "source": [
    "status_label_encoder = LabelEncoder()\n",
    "df_preprocessed['Status'] = status_label_encoder.fit_transform(df_data['Status'])\n",
    "df_preprocessed.head()"
   ]
  },
  {
   "cell_type": "code",
   "execution_count": 34,
   "id": "2293affa",
   "metadata": {},
   "outputs": [
    {
     "name": "stdout",
     "output_type": "stream",
     "text": [
      "<class 'pandas.core.frame.DataFrame'>\n",
      "RangeIndex: 2718 entries, 0 to 2717\n",
      "Data columns (total 22 columns):\n",
      " #   Column                           Non-Null Count  Dtype  \n",
      "---  ------                           --------------  -----  \n",
      " 0   Country                          2718 non-null   int64  \n",
      " 1   Year                             2718 non-null   int64  \n",
      " 2   Status                           2718 non-null   int64  \n",
      " 3   Life expectancy                  2718 non-null   float64\n",
      " 4   Adult Mortality                  2718 non-null   float64\n",
      " 5   infant deaths                    2718 non-null   int64  \n",
      " 6   Alcohol                          2564 non-null   float64\n",
      " 7   percentage expenditure           2718 non-null   float64\n",
      " 8   Hepatitis B                      2188 non-null   float64\n",
      " 9   Measles                          2718 non-null   int64  \n",
      " 10  BMI                              2692 non-null   float64\n",
      " 11  under-five deaths                2718 non-null   int64  \n",
      " 12  Polio                            2700 non-null   float64\n",
      " 13  Total expenditure                2529 non-null   float64\n",
      " 14  Diphtheria                       2700 non-null   float64\n",
      " 15  HIV/AIDS                         2718 non-null   float64\n",
      " 16  GDP                              2317 non-null   float64\n",
      " 17  Population                       2116 non-null   float64\n",
      " 18  thinness  1-19 years             2692 non-null   float64\n",
      " 19  thinness 5-9 years               2692 non-null   float64\n",
      " 20  Income composition of resources  2576 non-null   float64\n",
      " 21  Schooling                        2576 non-null   float64\n",
      "dtypes: float64(16), int64(6)\n",
      "memory usage: 467.3 KB\n"
     ]
    }
   ],
   "source": [
    "df_preprocessed.info()"
   ]
  },
  {
   "cell_type": "markdown",
   "id": "44ec5da8",
   "metadata": {},
   "source": [
    "Vsechny priznaky ted maji spravny datatyp. Muzeme tedy zacit trenovat modely."
   ]
  },
  {
   "cell_type": "markdown",
   "id": "cfbf87d7",
   "metadata": {},
   "source": [
    "# 2. Nahodny Les"
   ]
  },
  {
   "cell_type": "markdown",
   "id": "b68bdad1",
   "metadata": {},
   "source": [
    "### CustomRandomForest\n",
    "***"
   ]
  },
  {
   "cell_type": "code",
   "execution_count": 22,
   "id": "280dc5d5-087b-4060-bd0a-c950c91f0533",
   "metadata": {},
   "outputs": [],
   "source": [
    "# Váš kód zde\n",
    "\n",
    "\n",
    "########################################################\n",
    "# Předpřipravená kostra modelu náhodného lesa\n",
    "class CustomRandomForest:\n",
    "    \"\"\"\n",
    "    Třída Vašeho modelu\n",
    "    Bude se jednat o model náhodného lesa, kde podmodely tvoří rozhodovací stromy pro regresi.\n",
    "    Pro podmodely můžete použít implementaci DecisionTreeRegressor ze sklearn.\n",
    "    \"\"\"\n",
    "    def __init__(self, n_estimators, max_samples, max_depth, **kwargs):\n",
    "        \"\"\"\n",
    "        Konstruktor modelu\n",
    "        Základní hyperparametery:\n",
    "            n_estimators - počet podmodelů - rozhodovacích stromů.\n",
    "            max_samples - vyberte si, zda tento parametr bude označovat relativní počet bodů (tj. číslo mezi 0 a 1) \n",
    "                          nebo absolutní počet bodů (tj. číslo mezi 1 a velikostí trénovací množiny), \n",
    "                          které budou pro každý podmodel rozhodovacího stromu náhodně vybrány z trénovací množiny (bootstrap) a použity k jeho trénování.\n",
    "            max_depth - maximální hloubka každého z podmodelů rozhodovacího stromu.\n",
    "            kwargs - (volitelně) případné další hyperparametry, které pošlete do podmodelů rozhodovacího stromu\n",
    "        \"\"\"\n",
    "        pass\n",
    "        \n",
    "    def fit(self, X, y):\n",
    "        \"\"\"\n",
    "        Natrénování modelu. Trénovací data jsou v argumentech X a y.\n",
    "        Pro trénování podmodelů používejte bootstraping a velikost samplovaného vzorku vezměte z hyperparametru max_samples_fraction\n",
    "        \"\"\"\n",
    "        pass\n",
    "        \n",
    "    def predict(self, X):\n",
    "        \"\"\"\n",
    "        Predikce y v zadaných bodech X\n",
    "        \"\"\"\n",
    "        ypredicted = np.zeros((X.shape[0],))\n",
    "        ...\n",
    "        return ypredicted\n"
   ]
  },
  {
   "cell_type": "markdown",
   "id": "12689dd8",
   "metadata": {},
   "source": [
    "### Vhodnost Daneho Modelu\n",
    "***"
   ]
  },
  {
   "cell_type": "markdown",
   "id": "d80bfa51",
   "metadata": {},
   "source": [
    "Tento typ ulohy je docela vhodny pro nahodny les - dataset ma problemy se kterymi nahodny les umi dobre vyporadat - chybejici hodnoty, hodne priznaku, odlehle hodnoty. \n",
    "\n",
    "Jediny problem, ktery muzeme uvidet je nominalni priznak (Country), ktery muze mit vliv na odhad, ale ma hodne unikatnich hodnot kde nema smysl usporadani (i kdyz bychom mohli to trochu zlepsit tim, ze usporadame dle nejakeho kriteria, napriklad bohaty nebo chudy stat - ale to uz popisuje priznak s HDP. Jinak bychom potrebovali vyuzit dalsi data nekde z internetu, ale to uz nevchazi v ramce ulohy). One hot encoding by to mel zlepsit, ale trenovani uz muze byt vypocetni narocnejsi (183 novych priznaku uz je hodne)"
   ]
  },
  {
   "cell_type": "markdown",
   "id": "6f497e7b",
   "metadata": {},
   "source": [
    "### Trenovani a Evaluace\n",
    "***"
   ]
  },
  {
   "cell_type": "markdown",
   "id": "7b9b9fee",
   "metadata": {},
   "source": [
    "# 3. Hrebenova Regrese"
   ]
  },
  {
   "cell_type": "markdown",
   "id": "81bc670a",
   "metadata": {},
   "source": [
    "### Vhodnost Daneho Modelu\n",
    "***"
   ]
  },
  {
   "cell_type": "markdown",
   "id": "59146bca",
   "metadata": {},
   "source": [
    "### Trenovani a Evaluace - Bez Normalizace\n",
    "***"
   ]
  },
  {
   "cell_type": "markdown",
   "id": "c0b324b9",
   "metadata": {},
   "source": [
    "### Trenovani a Evaluace - MinMax Normalizace\n",
    "***"
   ]
  },
  {
   "cell_type": "markdown",
   "id": "e2963c80",
   "metadata": {},
   "source": [
    "### Trenovani a Evaluace - Standardizace\n",
    "***"
   ]
  },
  {
   "cell_type": "markdown",
   "id": "7099e011",
   "metadata": {},
   "source": [
    "# 4. Lasso a Linearni Regrese"
   ]
  },
  {
   "cell_type": "markdown",
   "id": "8232a432",
   "metadata": {},
   "source": [
    "### Vhodnost Daneho Modelu\n",
    "***"
   ]
  },
  {
   "cell_type": "markdown",
   "id": "3ee9b2a4",
   "metadata": {},
   "source": [
    "### Lasso - Standardizace\n",
    "***"
   ]
  },
  {
   "cell_type": "markdown",
   "id": "eb76e34b",
   "metadata": {},
   "source": [
    "### Linearni Regrese - Bez Lasso\n",
    "***"
   ]
  },
  {
   "cell_type": "markdown",
   "id": "9165953d",
   "metadata": {},
   "source": [
    "### Linearni Regrese - s Lasso\n",
    "***"
   ]
  },
  {
   "cell_type": "markdown",
   "id": "c2a2fe9a",
   "metadata": {},
   "source": [
    "# 5. Finalni Evaluace"
   ]
  },
  {
   "cell_type": "markdown",
   "id": "be290a5b",
   "metadata": {},
   "source": [
    "### Vyber Finalniho Modelu a jeho Evaluace\n",
    "***"
   ]
  },
  {
   "cell_type": "markdown",
   "id": "23f60030",
   "metadata": {},
   "source": [
    "### Country v datasetu Evaluation\n",
    "***"
   ]
  },
  {
   "cell_type": "markdown",
   "id": "9d5c20da",
   "metadata": {},
   "source": [
    "Zajima nas jestli evaluation ma nejake staty navic nez data.csv, nebo naopak."
   ]
  },
  {
   "cell_type": "code",
   "execution_count": 23,
   "id": "d1072b9f",
   "metadata": {},
   "outputs": [],
   "source": [
    "df_eval = pd.read_csv(\"evaluation.csv\")"
   ]
  },
  {
   "cell_type": "code",
   "execution_count": 24,
   "id": "7cdc9e6f",
   "metadata": {},
   "outputs": [],
   "source": [
    "eval_countries = set(df_eval['Country'].unique())\n",
    "data_countries = set(df_data['Country'].unique())\n"
   ]
  },
  {
   "cell_type": "code",
   "execution_count": 25,
   "id": "5ffc4e48",
   "metadata": {},
   "outputs": [
    {
     "data": {
      "text/plain": [
       "183"
      ]
     },
     "execution_count": 25,
     "metadata": {},
     "output_type": "execute_result"
    }
   ],
   "source": [
    "len(data_countries)"
   ]
  },
  {
   "cell_type": "code",
   "execution_count": 26,
   "id": "60a25d2e",
   "metadata": {},
   "outputs": [
    {
     "data": {
      "text/plain": [
       "35"
      ]
     },
     "execution_count": 26,
     "metadata": {},
     "output_type": "execute_result"
    }
   ],
   "source": [
    "len(eval_countries)"
   ]
  },
  {
   "cell_type": "code",
   "execution_count": 27,
   "id": "08159e01",
   "metadata": {},
   "outputs": [
    {
     "data": {
      "text/plain": [
       "0"
      ]
     },
     "execution_count": 27,
     "metadata": {},
     "output_type": "execute_result"
    }
   ],
   "source": [
    "diff = eval_countries - data_countries\n",
    "len(diff)"
   ]
  },
  {
   "cell_type": "markdown",
   "id": "8c6d25ba",
   "metadata": {},
   "source": [
    "Vidime, ze odectenim od mnoziny statu z evaluation.csv mnoziny statu z data.csv, dostavame prazdnou mnozinu - tj. eval countries zrejme obsahuje nic navic a zrejme data_countries obsahuje mnohem vic statu."
   ]
  },
  {
   "cell_type": "markdown",
   "id": "3036630c",
   "metadata": {},
   "source": [
    "Tato informace se muze hodit pro analyzu jak pouzit one-hot encoding pro priznak Country (bylo popsano pri analyze sloupce Country vyse)"
   ]
  }
 ],
 "metadata": {
  "kernelspec": {
   "display_name": "Python 3 (ipykernel)",
   "language": "python",
   "name": "python3"
  },
  "language_info": {
   "codemirror_mode": {
    "name": "ipython",
    "version": 3
   },
   "file_extension": ".py",
   "mimetype": "text/x-python",
   "name": "python",
   "nbconvert_exporter": "python",
   "pygments_lexer": "ipython3",
   "version": "3.11.6"
  }
 },
 "nbformat": 4,
 "nbformat_minor": 5
}
